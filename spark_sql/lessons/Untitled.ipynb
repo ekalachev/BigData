{
 "cells": [
  {
   "cell_type": "code",
   "execution_count": 16,
   "metadata": {},
   "outputs": [
    {
     "name": "stdout",
     "output_type": "stream",
     "text": [
      "x + y = 5\n"
     ]
    },
    {
     "data": {
      "text/plain": [
       "x: Int = 2\r\n",
       "y: Int = 3\r\n"
      ]
     },
     "execution_count": 16,
     "metadata": {},
     "output_type": "execute_result"
    }
   ],
   "source": [
    "val x = 2\n",
    "val y = 3\n",
    "\n",
    "println(s\"x + y = ${x + y}\")"
   ]
  },
  {
   "cell_type": "code",
   "execution_count": 17,
   "metadata": {},
   "outputs": [
    {
     "name": "stdout",
     "output_type": "stream",
     "text": [
      "+---+---+---+\n",
      "| _1| _2| _3|\n",
      "+---+---+---+\n",
      "|  1|  2|  3|\n",
      "|  4|  5|  6|\n",
      "|  6|  7|  8|\n",
      "|  9| 19| 10|\n",
      "+---+---+---+\n",
      "\n"
     ]
    },
    {
     "data": {
      "text/plain": [
       "data: Seq[(Int, Int, Int)] = List((1,2,3), (4,5,6), (6,7,8), (9,19,10))\r\n",
       "ds: org.apache.spark.sql.Dataset[(Int, Int, Int)] = [_1: int, _2: int ... 1 more field]\r\n"
      ]
     },
     "execution_count": 17,
     "metadata": {},
     "output_type": "execute_result"
    }
   ],
   "source": [
    "val data = Seq((1,2,3), (4,5,6), (6,7,8), (9,19,10))\n",
    "val ds = spark.createDataset(data)\n",
    "ds.show()"
   ]
  },
  {
   "cell_type": "code",
   "execution_count": null,
   "metadata": {},
   "outputs": [],
   "source": []
  },
  {
   "cell_type": "code",
   "execution_count": 22,
   "metadata": {},
   "outputs": [
    {
     "data": {
      "text/plain": [
       "import java.util.Properties\r\n"
      ]
     },
     "execution_count": 22,
     "metadata": {},
     "output_type": "execute_result"
    }
   ],
   "source": [
    "import java.util.Properties"
   ]
  },
  {
   "cell_type": "code",
   "execution_count": 23,
   "metadata": {},
   "outputs": [],
   "source": [
    "spark.conf.set(\"fs.azure.account.auth.type\", \"OAuth\")\n",
    "spark.conf.set(\"fs.azure.account.oauth.provider.type\", \"org.apache.hadoop.fs.azurebfs.oauth2.ClientCredsTokenProvider\")\n",
    "spark.conf.set(\"fs.azure.account.oauth2.client.id\", \"f3905ff9-16d4-43ac-9011-842b661d556d\")\n",
    "spark.conf.set(\"fs.azure.account.oauth2.client.secret\", \"mAwIU~M4~xMYHi4YX_uT8qQ.ta2.LTYZxT\")\n",
    "spark.conf.set(\"fs.azure.account.oauth2.client.endpoint\", \"https://login.microsoftonline.com/b41b72d0-4e9f-4c26-8a69-f949f367c91d/oauth2/token\")"
   ]
  },
  {
   "cell_type": "code",
   "execution_count": 24,
   "metadata": {},
   "outputs": [
    {
     "ename": "java.lang.RuntimeException",
     "evalue": " java.lang.ClassNotFoundException: Class org.apache.hadoop.fs.azurebfs.SecureAzureBlobFileSystem not found\r",
     "output_type": "error",
     "traceback": [
      "java.lang.RuntimeException: java.lang.ClassNotFoundException: Class org.apache.hadoop.fs.azurebfs.SecureAzureBlobFileSystem not found\r",
      "  at org.apache.hadoop.conf.Configuration.getClass(Configuration.java:2595)\r",
      "  at org.apache.hadoop.fs.FileSystem.getFileSystemClass(FileSystem.java:3269)\r",
      "  at org.apache.hadoop.fs.FileSystem.createFileSystem(FileSystem.java:3301)\r",
      "  at org.apache.hadoop.fs.FileSystem.access$200(FileSystem.java:124)\r",
      "  at org.apache.hadoop.fs.FileSystem$Cache.getInternal(FileSystem.java:3352)\r",
      "  at org.apache.hadoop.fs.FileSystem$Cache.get(FileSystem.java:3320)\r",
      "  at org.apache.hadoop.fs.FileSystem.get(FileSystem.java:479)\r",
      "  at org.apache.hadoop.fs.Path.getFileSystem(Path.java:361)\r",
      "  at org.apache.spark.sql.execution.streaming.FileStreamSink$.hasMetadata(FileStreamSink.scala:46)\r",
      "  at org.apache.spark.sql.execution.datasources.DataSource.resolveRelation(DataSource.scala:376)\r",
      "  at org.apache.spark.sql.DataFrameReader.loadV1Source(DataFrameReader.scala:326)\r",
      "  at org.apache.spark.sql.DataFrameReader.$anonfun$load$3(DataFrameReader.scala:308)\r",
      "  at scala.Option.getOrElse(Option.scala:189)\r",
      "  at org.apache.spark.sql.DataFrameReader.load(DataFrameReader.scala:308)\r",
      "  at org.apache.spark.sql.DataFrameReader.load(DataFrameReader.scala:240)\r",
      "  ... 38 elided\r",
      "Caused by: java.lang.ClassNotFoundException: Class org.apache.hadoop.fs.azurebfs.SecureAzureBlobFileSystem not found\r",
      "  at org.apache.hadoop.conf.Configuration.getClassByName(Configuration.java:2499)\r",
      "  at org.apache.hadoop.conf.Configuration.getClass(Configuration.java:2593)\r",
      "  ... 52 more\r",
      ""
     ]
    }
   ],
   "source": [
    "spark.read.format(\"csv\").option(\"header\", \"true\").load(\"abfss://m6sparkbasics@bd201stacc.dfs.core.windows.net/hotels\").show()"
   ]
  },
  {
   "cell_type": "code",
   "execution_count": null,
   "metadata": {},
   "outputs": [],
   "source": []
  }
 ],
 "metadata": {
  "kernelspec": {
   "display_name": "spylon-kernel",
   "language": "scala",
   "name": "spylon-kernel"
  },
  "language_info": {
   "codemirror_mode": "text/x-scala",
   "file_extension": ".scala",
   "help_links": [
    {
     "text": "MetaKernel Magics",
     "url": "https://metakernel.readthedocs.io/en/latest/source/README.html"
    }
   ],
   "mimetype": "text/x-scala",
   "name": "scala",
   "pygments_lexer": "scala",
   "version": "0.4.1"
  }
 },
 "nbformat": 4,
 "nbformat_minor": 4
}
